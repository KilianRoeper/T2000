{
 "cells": [
  {
   "cell_type": "code",
   "execution_count": 0,
   "metadata": {
    "application/vnd.databricks.v1+cell": {
     "cellMetadata": {
      "byteLimit": 2048000,
      "rowLimit": 10000
     },
     "inputWidgets": {},
     "nuid": "8d8b5056-82b9-4620-9580-9555c78e4fcf",
     "showTitle": false,
     "title": ""
    }
   },
   "outputs": [],
   "source": [
    "#Connection to ADLS bus01prod02 container where pilot data is present\n",
    "storage_account = \"adlsweudpbus01prod02\"\n",
    "key=dbutils.secrets.get(scope=\"credentials\", key=\"SP-Password\")\n",
    "id=dbutils.secrets.get(scope=\"credentials\", key=\"clientId\")\n",
    "spark.conf.set(\"fs.azure.account.auth.type.\" + storage_account + \".dfs.core.windows.net\", \"OAuth\")\n",
    "spark.conf.set(\"fs.azure.account.oauth.provider.type.\" + storage_account + \".dfs.core.windows.net\", \"org.apache.hadoop.fs.azurebfs.oauth2.ClientCredsTokenProvider\")\n",
    "spark.conf.set(\"fs.azure.account.oauth2.client.id.\" + storage_account + \".dfs.core.windows.net\", id)\n",
    "spark.conf.set(\"fs.azure.account.oauth2.client.secret.\" + storage_account + \".dfs.core.windows.net\", key)\n",
    "spark.conf.set(\"fs.azure.account.oauth2.client.endpoint.\" + storage_account + \".dfs.core.windows.net\", \"https://login.microsoftonline.com/505cca53-5750-4134-9501-8d52d5df3cd1/oauth2/token\")\n",
    "\n",
    "%run /Workspace/Repos/kroeper@tbdir.net/Utils/Storage_connection\n",
    "\n",
    "import sys\n",
    "sys.path.insert(0,\"/Workspace/Repos/Misc/Utils/\")\n",
    "\n",
    "from storageConnection import *\n",
    "import pyspark.sql.functions as F\n",
    "from pyspark.sql import Window\n",
    "from pyspark.sql import types\n",
    "from pyspark.sql.functions import unix_timestamp\n",
    "from pyspark.sql.functions import when\n",
    "\n",
    "\n",
    "\n",
    "conn = StorageConnection('adls_ctp', 'sql_rd')\n",
    "path = \"abfss://al-ctp-pilot-contracts@adlsweudpbus01prod02.dfs.core.windows.net/data/\"\n",
    "df = spark.read.format(\"delta\").load(path)\n",
    "\n"
   ]
  },
  {
   "cell_type": "code",
   "execution_count": 0,
   "metadata": {
    "application/vnd.databricks.v1+cell": {
     "cellMetadata": {
      "byteLimit": 2048000,
      "rowLimit": 10000
     },
     "inputWidgets": {},
     "nuid": "c54fc376-a9d5-4df4-8ee5-699227a6295e",
     "showTitle": false,
     "title": ""
    }
   },
   "outputs": [],
   "source": [
    "device_ids = [\n",
    "    'ctp-0020008236', 'ctp-0020008009', 'ctp-0020008214', 'ctp-0020006799',\n",
    "    'ctp-0020007916', 'ctp-0020006875', 'ctp-0020007025', 'ctp-0020007843',\n",
    "    'ctp-0020007885', 'ctp-0020007877', 'ctp-0020008119', 'ctp-0440008057'\n",
    "]\n",
    "start_date = '2022-12-01'\n",
    "end_date = '2023-11-30'\n",
    "temp_id = '4378'        #Air Temperature Outside Current value SCA\n",
    "standstill_id = '23'\n",
    "plug_sig = '239'\n",
    "prec_sig = '243'\n",
    "temp_inside = '219'     #Air Temperature Inside Current value HVAC\n",
    "#ChargingStateDC = '321'\n",
    "#ChargingStateAC = '320'\n",
    "#Status_Plugin_Charging = '239'"
   ]
  },
  {
   "cell_type": "code",
   "execution_count": 0,
   "metadata": {
    "application/vnd.databricks.v1+cell": {
     "cellMetadata": {
      "byteLimit": 2048000,
      "rowLimit": 10000
     },
     "inputWidgets": {},
     "nuid": "63b9ba64-ccdc-4ac2-903e-e7b10d8e2f5b",
     "showTitle": false,
     "title": ""
    }
   },
   "outputs": [],
   "source": [
    "import time\n",
    "from datetime import datetime, timedelta\n",
    "\n",
    "df.filter(F.col('SignalID') == Status_Plugin_Charging).filter((df['SignalDate'] >= '2022-12-22') & (df['SignalDate'] <= '2023-11-30')).filter(df['DeviceID'].isin(device_ids)).select('DeviceID', 'SignalTimestamp').groupBy('DeviceID').agg(F.max('SignalTimestamp'), F.min('SignalTimestamp')).display()"
   ]
  },
  {
   "cell_type": "code",
   "execution_count": 0,
   "metadata": {
    "application/vnd.databricks.v1+cell": {
     "cellMetadata": {
      "byteLimit": 2048000,
      "rowLimit": 10000
     },
     "inputWidgets": {},
     "nuid": "9f1a43c2-32a1-4c55-89d3-e14171d91566",
     "showTitle": false,
     "title": ""
    }
   },
   "outputs": [],
   "source": [
    "import time\n",
    "from datetime import datetime, timedelta\n",
    "\n",
    "df.filter((F.col('SignalID') == '243')).filter((df['SignalDate'] >= '2022-11-22') & (df['SignalDate'] <= '2023-11-30')).filter(df['DeviceID'].isin(device_ids)).groupBy('DeviceID').agg(F.max('SignalTimestamp'), F.min('SignalTimestamp')).display()"
   ]
  },
  {
   "cell_type": "code",
   "execution_count": 0,
   "metadata": {
    "application/vnd.databricks.v1+cell": {
     "cellMetadata": {
      "byteLimit": 2048000,
      "rowLimit": 10000
     },
     "inputWidgets": {},
     "nuid": "ce9ee0fa-5d92-4325-b49a-bf97d7ecd4d7",
     "showTitle": false,
     "title": ""
    }
   },
   "outputs": [],
   "source": [
    "df.filter((F.col('SignalID') == '243') | (F.col('SignalID') == '239')).filter((df['SignalDate'] >= '2023-11-22') & (df['SignalDate'] <= '2023-11-30')).orderBy('SignalTimestamp').select('DeviceID').distinct().display()"
   ]
  },
  {
   "cell_type": "code",
   "execution_count": 0,
   "metadata": {
    "application/vnd.databricks.v1+cell": {
     "cellMetadata": {
      "byteLimit": 2048000,
      "rowLimit": 10000
     },
     "inputWidgets": {},
     "nuid": "f060fd97-0046-4909-afb8-4bd0526668e5",
     "showTitle": false,
     "title": ""
    }
   },
   "outputs": [],
   "source": [
    "df = df.filter((F.col('SignalID') == temp_id) | (F.col('SignalID') == standstill_id) | (F.col('SignalID') == plug_sig) | (F.col('SignalID') == prec_sig) | (F.col('SignalID') == temp_inside)).filter(df['SignalValue'] <= 50.0).filter(df['SignalValue'] >= -20.0).filter((df['SignalDate'] >= start_date) & (df['SignalDate'] <= end_date)).filter(df['DeviceID'].isin(device_ids)).orderBy('SignalTimestamp').select('DeviceID', 'CustomerName', 'SignalTimestamp','SignalID', 'SignalValue')\n",
    "#df.display()\n"
   ]
  },
  {
   "cell_type": "code",
   "execution_count": 0,
   "metadata": {
    "application/vnd.databricks.v1+cell": {
     "cellMetadata": {
      "byteLimit": 2048000,
      "rowLimit": 10000
     },
     "inputWidgets": {},
     "nuid": "07b644b6-53bb-4302-807b-bf97e072ce67",
     "showTitle": false,
     "title": ""
    }
   },
   "outputs": [],
   "source": [
    "df = df.groupBy('DeviceID', 'CustomerName', 'SignalTimestamp').pivot('SignalID', ['23', '4378', '239', '243', '219']).agg(F.first('SignalValue'))\n",
    "#df.display()\n"
   ]
  },
  {
   "cell_type": "code",
   "execution_count": 0,
   "metadata": {
    "application/vnd.databricks.v1+cell": {
     "cellMetadata": {
      "byteLimit": 2048000,
      "rowLimit": 10000
     },
     "inputWidgets": {},
     "nuid": "c364924b-11b0-4476-b974-93cfbf22cf25",
     "showTitle": false,
     "title": ""
    }
   },
   "outputs": [],
   "source": [
    "window = Window.partitionBy(\"DeviceID\").orderBy(\"SignalTimestamp\").rowsBetween(-sys.maxsize, 0)\n",
    "window2 = Window.partitionBy(\"DeviceID\").orderBy('SignalTimestamp')\n",
    "window3 = Window.partitionBy(\"DeviceID\").orderBy(\"SignalTimestamp\").rowsBetween( 0,120)\n",
    "\n",
    "\n",
    "df = df.withColumn('4378', F.last('4378', ignorenulls = True).over(window))\n",
    "#df = df.withColumn('4378', F.when(F.col('4378') == None, F.first('4378', ignorenulls = True).over(window3)))\n",
    "#df.display()\n",
    "\n",
    "#forward filling\n",
    "df = df.withColumn('4378', F.col('4378').cast('float'))\n",
    "df = df.withColumn('239', F.last('239', ignorenulls = True).over(window))\n",
    "df = df.withColumn('243', F.last('243', ignorenulls = True).over(window))\n",
    "df = df.withColumn('219', F.last('219', ignorenulls = True).over(window))\n",
    "df = df.withColumn('23', F.last('23', ignorenulls = True).over(window))\n",
    "\n",
    "#df = df.withColumn('23', F.when(F.col('23') == None, F.first('23', ignorenulls = True).over(window3)))\n",
    "\n",
    "df = df.withColumn('lag_23', F.lag('23').over(window2))\n",
    "\n",
    "#creating ID\n",
    "df = df.withColumn('ID', F.when(((F.col('lag_23') == 0) | (F.col('lag_23') == None)) & (F.col('23') == 1), F.sum('23').over(window)))\n",
    "#df.display()\n",
    "\n",
    "#forward filling ID\n",
    "df = df.withColumn('ID', F.last('ID', ignorenulls = True).over(window))\n",
    "#df.display()\n",
    "\n",
    "#filtering all events in which the vehicle is not standing still\n",
    "df = df.filter(~((F.col('lag_23') == 0) & (F.col('23') == 0)))\n",
    "\n",
    "#df.display()\n",
    "\n",
    "#getting if preconditioning was done within a particular ID. If prec was done and not done within an ID then done counts\n",
    "df = df.groupBy('DeviceID','CustomerName', 'ID').agg(F.avg('4378').alias('Avg_Outside_Temp'), ((unix_timestamp(F.max('SignalTimestamp')) - unix_timestamp(F.min('SignalTimestamp'))) / 60).alias('Time_Difference'), F.max('239').alias('Plug'), F.max(F.when(F.col('243')== 1, 4).otherwise(F.col('243'))).alias('Preconditioning'), F.avg('219').alias('Avg_Inside_Temp'))#.orderBy('DeviceID', 'ID')\n",
    "df = df.filter(df['ID'].isNotNull()).filter(F.col('Time_Difference') >= 1)\n",
    "winid = Window.partitionBy('DeviceID').orderBy('ID').rowsBetween(0,100)\n",
    "df = df.withColumn('Avg_Outside_Temp',  F.first('Avg_Outside_Temp', ignorenulls = True).over(winid))\n",
    "#df.display()\n"
   ]
  },
  {
   "cell_type": "code",
   "execution_count": 0,
   "metadata": {
    "application/vnd.databricks.v1+cell": {
     "cellMetadata": {
      "byteLimit": 2048000,
      "rowLimit": 10000
     },
     "inputWidgets": {},
     "nuid": "837f014f-9b33-4d0a-ba16-3edaa4218f6c",
     "showTitle": false,
     "title": ""
    }
   },
   "outputs": [],
   "source": [
    "#rounding the values for the temperature and time difference\n",
    "df = df.filter(F.col('Plug') == 1).withColumn('Avg_Outside_Temp', (df['Avg_Outside_Temp'] / 5).cast('int')).withColumn('Avg_Inside_Temp', (df['Avg_Inside_Temp'] / 5).cast('int')).withColumn('Time_Difference', (df['Time_Difference'] / 60).cast('int'))\n",
    "df = df.withColumn('Time_Difference', when(F.col('Time_Difference') >= 5, '>= 5').otherwise(F.col('Time_Difference')))\n",
    "df = df.withColumn('Avg_Outside_Temp', df['Avg_Outside_Temp'] * 5).withColumn('Avg_Inside_Temp', df['Avg_Inside_Temp'] * 5)\n",
    "df = df.withColumn('Time_Difference', F.when(F.col('Time_Difference') == None, 0).otherwise(F.col('Time_Difference')))\n",
    "#df.display()"
   ]
  },
  {
   "cell_type": "code",
   "execution_count": 0,
   "metadata": {
    "application/vnd.databricks.v1+cell": {
     "cellMetadata": {
      "byteLimit": 2048000,
      "rowLimit": 10000
     },
     "inputWidgets": {},
     "nuid": "7cb02522-168a-42b6-ad1c-c17ae00ae200",
     "showTitle": false,
     "title": ""
    }
   },
   "outputs": [],
   "source": [
    "df = df.filter(~(F.col('Preconditioning') == 'null'))\n",
    "df.display()"
   ]
  },
  {
   "cell_type": "code",
   "execution_count": 0,
   "metadata": {
    "application/vnd.databricks.v1+cell": {
     "cellMetadata": {
      "byteLimit": 2048000,
      "rowLimit": 10000
     },
     "inputWidgets": {},
     "nuid": "ef9bc0e8-5a54-48eb-afdd-6db24ab57ff5",
     "showTitle": false,
     "title": ""
    }
   },
   "outputs": [],
   "source": []
  },
  {
   "cell_type": "code",
   "execution_count": 0,
   "metadata": {
    "application/vnd.databricks.v1+cell": {
     "cellMetadata": {
      "byteLimit": 2048000,
      "rowLimit": 10000
     },
     "inputWidgets": {},
     "nuid": "85265608-ab01-4aeb-9bbc-37c938559133",
     "showTitle": false,
     "title": ""
    }
   },
   "outputs": [],
   "source": [
    "conn.sql_rd.write_table(data=df,table_name='rd.CTP_Sales_Standstill_plug_prec_inTemp',mode='append',truncate=False)\n",
    "conn.sql_rd.execute_query()"
   ]
  },
  {
   "cell_type": "code",
   "execution_count": 0,
   "metadata": {
    "application/vnd.databricks.v1+cell": {
     "cellMetadata": {
      "byteLimit": 2048000,
      "rowLimit": 10000
     },
     "inputWidgets": {},
     "nuid": "b8c5f4ab-0ebc-4447-aca9-c422a8b93acb",
     "showTitle": false,
     "title": ""
    }
   },
   "outputs": [],
   "source": [
    "df = df.groupBy('Avg_Outside_Temp', 'DeviceID', 'CustomerName').pivot('Time_Difference').count()\n",
    "df = df.orderBy('Avg_Outside_Temp')\n",
    "df.display()"
   ]
  },
  {
   "cell_type": "code",
   "execution_count": 0,
   "metadata": {
    "application/vnd.databricks.v1+cell": {
     "cellMetadata": {
      "byteLimit": 2048000,
      "rowLimit": 10000
     },
     "inputWidgets": {},
     "nuid": "c7440a8e-f3dc-4e6b-b451-3c46e2c51184",
     "showTitle": false,
     "title": ""
    }
   },
   "outputs": [],
   "source": [
    "df = df.withColumn('Avg_Outside_Temp', df['Avg_Outside_Temp'] * 5)\n",
    "df.groupBy('Avg_Outside_Temp').sum().orderBy('Avg_Outside_Temp').display()"
   ]
  },
  {
   "cell_type": "code",
   "execution_count": 0,
   "metadata": {
    "application/vnd.databricks.v1+cell": {
     "cellMetadata": {
      "byteLimit": 2048000,
      "rowLimit": 10000
     },
     "inputWidgets": {},
     "nuid": "c9239422-4c76-4266-a373-9b20e36115cf",
     "showTitle": false,
     "title": ""
    }
   },
   "outputs": [],
   "source": [
    "df.display()"
   ]
  },
  {
   "cell_type": "code",
   "execution_count": 0,
   "metadata": {
    "application/vnd.databricks.v1+cell": {
     "cellMetadata": {
      "byteLimit": 2048000,
      "rowLimit": 10000
     },
     "inputWidgets": {},
     "nuid": "e2451f38-c119-4ce6-808d-475ff784afbd",
     "showTitle": false,
     "title": ""
    }
   },
   "outputs": [],
   "source": [
    "conn.sql_rd.write_table(data=df,table_name='rd.CTP_Sales_Standstill_plug_detected',mode='append',truncate=False)"
   ]
  },
  {
   "cell_type": "code",
   "execution_count": 0,
   "metadata": {
    "application/vnd.databricks.v1+cell": {
     "cellMetadata": {
      "byteLimit": 2048000,
      "rowLimit": 10000
     },
     "inputWidgets": {},
     "nuid": "133df041-e083-4b78-a311-8610bf300b00",
     "showTitle": false,
     "title": ""
    }
   },
   "outputs": [],
   "source": [
    "df = conn.sql_rd.read_table(table_name='rd.CTP_Sales_Standstill')\n",
    "df.display()"
   ]
  },
  {
   "cell_type": "code",
   "execution_count": 0,
   "metadata": {
    "application/vnd.databricks.v1+cell": {
     "cellMetadata": {
      "byteLimit": 2048000,
      "rowLimit": 10000
     },
     "inputWidgets": {},
     "nuid": "e1f532af-0448-4661-8ec6-172cee86cd9e",
     "showTitle": false,
     "title": ""
    }
   },
   "outputs": [],
   "source": [
    "df.groupBy('Avg_Temperature').sum().orderBy('Avg_Temperature').display()"
   ]
  },
  {
   "cell_type": "code",
   "execution_count": 0,
   "metadata": {
    "application/vnd.databricks.v1+cell": {
     "cellMetadata": {
      "byteLimit": 2048000,
      "rowLimit": 10000
     },
     "inputWidgets": {},
     "nuid": "7bcf73a7-72d3-410f-8093-4b57798f1488",
     "showTitle": false,
     "title": ""
    }
   },
   "outputs": [
    {
     "output_type": "display_data",
     "data": {
      "text/html": [
       "<style scoped>\n",
       "  .table-result-container {\n",
       "    max-height: 300px;\n",
       "    overflow: auto;\n",
       "  }\n",
       "  table, th, td {\n",
       "    border: 1px solid black;\n",
       "    border-collapse: collapse;\n",
       "  }\n",
       "  th, td {\n",
       "    padding: 5px;\n",
       "  }\n",
       "  th {\n",
       "    text-align: left;\n",
       "  }\n",
       "</style><div class='table-result-container'><table class='table-result'><thead style='background-color: white'><tr><th>Avg_Temperature</th><th>DeviceID</th><th>CustomerName</th><th>0</th><th>1</th><th>2</th><th>3</th><th>4</th><th>>= 5</th></tr></thead><tbody><tr><td>-1</td><td>ctp-0440008814</td><td>üstra Hannoversche Verkehrsbetriebe AG</td><td>2</td><td>null</td><td>null</td><td>1</td><td>null</td><td>null</td></tr><tr><td>0</td><td>ctp-0440008814</td><td>üstra Hannoversche Verkehrsbetriebe AG</td><td>273</td><td>16</td><td>4</td><td>1</td><td>2</td><td>29</td></tr><tr><td>1</td><td>ctp-0440008814</td><td>üstra Hannoversche Verkehrsbetriebe AG</td><td>501</td><td>18</td><td>2</td><td>4</td><td>2</td><td>35</td></tr><tr><td>2</td><td>ctp-0440008814</td><td>üstra Hannoversche Verkehrsbetriebe AG</td><td>451</td><td>8</td><td>4</td><td>5</td><td>8</td><td>31</td></tr><tr><td>3</td><td>ctp-0440008814</td><td>üstra Hannoversche Verkehrsbetriebe AG</td><td>127</td><td>4</td><td>3</td><td>null</td><td>1</td><td>12</td></tr><tr><td>4</td><td>ctp-0440008814</td><td>üstra Hannoversche Verkehrsbetriebe AG</td><td>18</td><td>1</td><td>null</td><td>null</td><td>null</td><td>3</td></tr></tbody></table></div>"
      ]
     },
     "metadata": {
      "application/vnd.databricks.v1+output": {
       "addedWidgets": {},
       "aggData": [],
       "aggError": "",
       "aggOverflow": false,
       "aggSchema": [],
       "aggSeriesLimitReached": false,
       "aggType": "",
       "arguments": {},
       "columnCustomDisplayInfos": {},
       "data": [
        [
         -1,
         "ctp-0440008814",
         "üstra Hannoversche Verkehrsbetriebe AG",
         2,
         null,
         null,
         1,
         null,
         null
        ],
        [
         0,
         "ctp-0440008814",
         "üstra Hannoversche Verkehrsbetriebe AG",
         273,
         16,
         4,
         1,
         2,
         29
        ],
        [
         1,
         "ctp-0440008814",
         "üstra Hannoversche Verkehrsbetriebe AG",
         501,
         18,
         2,
         4,
         2,
         35
        ],
        [
         2,
         "ctp-0440008814",
         "üstra Hannoversche Verkehrsbetriebe AG",
         451,
         8,
         4,
         5,
         8,
         31
        ],
        [
         3,
         "ctp-0440008814",
         "üstra Hannoversche Verkehrsbetriebe AG",
         127,
         4,
         3,
         null,
         1,
         12
        ],
        [
         4,
         "ctp-0440008814",
         "üstra Hannoversche Verkehrsbetriebe AG",
         18,
         1,
         null,
         null,
         null,
         3
        ]
       ],
       "datasetInfos": [],
       "dbfsResultPath": null,
       "isJsonSchema": true,
       "metadata": {},
       "overflow": false,
       "plotOptions": {
        "customPlotOptions": {},
        "displayType": "table",
        "pivotAggregation": null,
        "pivotColumns": null,
        "xColumns": null,
        "yColumns": null
       },
       "removedWidgets": [],
       "schema": [
        {
         "metadata": "{\"scale\":0}",
         "name": "Avg_Temperature",
         "type": "\"integer\""
        },
        {
         "metadata": "{\"scale\":0}",
         "name": "DeviceID",
         "type": "\"string\""
        },
        {
         "metadata": "{\"scale\":0}",
         "name": "CustomerName",
         "type": "\"string\""
        },
        {
         "metadata": "{\"scale\":0}",
         "name": "0",
         "type": "\"long\""
        },
        {
         "metadata": "{\"scale\":0}",
         "name": "1",
         "type": "\"long\""
        },
        {
         "metadata": "{\"scale\":0}",
         "name": "2",
         "type": "\"long\""
        },
        {
         "metadata": "{\"scale\":0}",
         "name": "3",
         "type": "\"long\""
        },
        {
         "metadata": "{\"scale\":0}",
         "name": "4",
         "type": "\"long\""
        },
        {
         "metadata": "{\"scale\":0}",
         "name": ">= 5",
         "type": "\"long\""
        }
       ],
       "type": "table"
      }
     },
     "output_type": "display_data"
    },
    {
     "output_type": "display_data",
     "data": {
      "text/html": [
       "<style scoped>\n",
       "  .table-result-container {\n",
       "    max-height: 300px;\n",
       "    overflow: auto;\n",
       "  }\n",
       "  table, th, td {\n",
       "    border: 1px solid black;\n",
       "    border-collapse: collapse;\n",
       "  }\n",
       "  th, td {\n",
       "    padding: 5px;\n",
       "  }\n",
       "  th {\n",
       "    text-align: left;\n",
       "  }\n",
       "</style><div class='table-result-container'><table class='table-result'><thead style='background-color: white'><tr><th>CustomerName</th></tr></thead><tbody><tr><td>Hamburger Hochbahn AG</td></tr><tr><td>Stadtverkehr Lübeck GmbH</td></tr><tr><td>ESWE Verkehrsgesellschaft mbH</td></tr><tr><td>üstra Hannoversche Verkehrsbetriebe AG</td></tr></tbody></table></div>"
      ]
     },
     "metadata": {
      "application/vnd.databricks.v1+output": {
       "addedWidgets": {},
       "aggData": [],
       "aggError": "",
       "aggOverflow": false,
       "aggSchema": [],
       "aggSeriesLimitReached": false,
       "aggType": "",
       "arguments": {},
       "columnCustomDisplayInfos": {},
       "data": [
        [
         "Hamburger Hochbahn AG"
        ],
        [
         "Stadtverkehr Lübeck GmbH"
        ],
        [
         "ESWE Verkehrsgesellschaft mbH"
        ],
        [
         "üstra Hannoversche Verkehrsbetriebe AG"
        ]
       ],
       "datasetInfos": [],
       "dbfsResultPath": null,
       "isJsonSchema": true,
       "metadata": {},
       "overflow": false,
       "plotOptions": {
        "customPlotOptions": {},
        "displayType": "table",
        "pivotAggregation": null,
        "pivotColumns": null,
        "xColumns": null,
        "yColumns": null
       },
       "removedWidgets": [],
       "schema": [
        {
         "metadata": "{\"scale\":0}",
         "name": "CustomerName",
         "type": "\"string\""
        }
       ],
       "type": "table"
      }
     },
     "output_type": "display_data"
    }
   ],
   "source": [
    "df.filter(F.col('DeviceID') == 'ctp-0440008814').display()\n",
    "df.select('CustomerName').distinct().display()"
   ]
  }
 ],
 "metadata": {
  "application/vnd.databricks.v1+notebook": {
   "dashboards": [],
   "environmentMetadata": null,
   "language": "python",
   "notebookMetadata": {
    "pythonIndentUnit": 4
   },
   "notebookName": "Standstill",
   "widgets": {}
  }
 },
 "nbformat": 4,
 "nbformat_minor": 0
}
